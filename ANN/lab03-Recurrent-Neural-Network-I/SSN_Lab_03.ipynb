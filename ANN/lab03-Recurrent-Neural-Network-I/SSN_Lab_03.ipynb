{
  "cells": [
    {
      "cell_type": "markdown",
      "metadata": {
        "id": "a65R3GKruhOp"
      },
      "source": [
        "Zadanie 1: Stwórz sieć rekurencyjną typu SimpleRNN przy użyciu biblioteki Keras i naucz ją przewidywać kolejne elementy w ciągu czasowym."
      ]
    },
    {
      "cell_type": "code",
      "execution_count": 1,
      "metadata": {
        "id": "K7zJt3gstcOQ"
      },
      "outputs": [],
      "source": [
        "import numpy as np\n",
        "from keras.models import Sequential\n",
        "from keras.layers import SimpleRNN, Dense"
      ]
    },
    {
      "cell_type": "code",
      "execution_count": 2,
      "metadata": {
        "id": "AHYTMPYWtjGb"
      },
      "outputs": [],
      "source": [
        "timesteps = 50\n",
        "data = np.sin(np.arange(timesteps))\n"
      ]
    },
    {
      "cell_type": "code",
      "execution_count": 3,
      "metadata": {
        "id": "ur-9GhwJuOJN"
      },
      "outputs": [],
      "source": [
        "def prepare_data(data, timesteps):\n",
        "    X, y = [], []\n",
        "    for i in range(len(data)-timesteps-1):\n",
        "        X.append(data[i:(i+timesteps)])\n",
        "        y.append(data[i+timesteps])\n",
        "    return np.array(X), np.array(y)\n",
        "\n",
        "X, y = prepare_data(data, 10)\n",
        "\n",
        "train_size = int(len(X) * 0.8)\n",
        "X_train, X_test = X[:train_size], X[train_size:]\n",
        "y_train, y_test = y[:train_size], y[train_size:]"
      ]
    },
    {
      "cell_type": "code",
      "execution_count": 4,
      "metadata": {
        "colab": {
          "base_uri": "https://localhost:8080/"
        },
        "id": "7lV-gMbmuRGn",
        "outputId": "81f0d776-1cd5-4685-baaf-9f72e8c02a9e"
      },
      "outputs": [
        {
          "name": "stderr",
          "output_type": "stream",
          "text": [
            "/usr/local/lib/python3.10/dist-packages/keras/src/layers/rnn/rnn.py:204: UserWarning: Do not pass an `input_shape`/`input_dim` argument to a layer. When using Sequential models, prefer using an `Input(shape)` object as the first layer in the model instead.\n",
            "  super().__init__(**kwargs)\n"
          ]
        }
      ],
      "source": [
        "model = Sequential()\n",
        "model.add(SimpleRNN(32, input_shape=(X_train.shape[1], 1)))\n",
        "model.add(Dense(1, activation='linear'))\n",
        "model.compile(optimizer='adam', loss='mse')"
      ]
    },
    {
      "cell_type": "code",
      "execution_count": 5,
      "metadata": {
        "colab": {
          "base_uri": "https://localhost:8080/"
        },
        "id": "_h80Y1ZWuThv",
        "outputId": "6bb904a8-4dfd-4a02-b7ba-c1bc13d914f2"
      },
      "outputs": [
        {
          "name": "stdout",
          "output_type": "stream",
          "text": [
            "Epoch 1/5\n",
            "\u001b[1m2/2\u001b[0m \u001b[32m━━━━━━━━━━━━━━━━━━━━\u001b[0m\u001b[37m\u001b[0m \u001b[1m2s\u001b[0m 19ms/step - loss: 0.7013\n",
            "Epoch 2/5\n",
            "\u001b[1m2/2\u001b[0m \u001b[32m━━━━━━━━━━━━━━━━━━━━\u001b[0m\u001b[37m\u001b[0m \u001b[1m0s\u001b[0m 14ms/step - loss: 0.4582 \n",
            "Epoch 3/5\n",
            "\u001b[1m2/2\u001b[0m \u001b[32m━━━━━━━━━━━━━━━━━━━━\u001b[0m\u001b[37m\u001b[0m \u001b[1m0s\u001b[0m 11ms/step - loss: 0.2154 \n",
            "Epoch 4/5\n",
            "\u001b[1m2/2\u001b[0m \u001b[32m━━━━━━━━━━━━━━━━━━━━\u001b[0m\u001b[37m\u001b[0m \u001b[1m0s\u001b[0m 10ms/step - loss: 0.0879\n",
            "Epoch 5/5\n",
            "\u001b[1m2/2\u001b[0m \u001b[32m━━━━━━━━━━━━━━━━━━━━\u001b[0m\u001b[37m\u001b[0m \u001b[1m0s\u001b[0m 13ms/step - loss: 0.0192\n"
          ]
        },
        {
          "data": {
            "text/plain": [
              "<keras.src.callbacks.history.History at 0x7a1a686731c0>"
            ]
          },
          "execution_count": 5,
          "metadata": {},
          "output_type": "execute_result"
        }
      ],
      "source": [
        "model.fit(X_train, y_train, epochs=5, batch_size=16)"
      ]
    },
    {
      "cell_type": "code",
      "execution_count": 6,
      "metadata": {
        "colab": {
          "base_uri": "https://localhost:8080/"
        },
        "id": "tW1ndeE8uWLX",
        "outputId": "f20a7b31-f636-45db-94c9-a0bc4a3c508f"
      },
      "outputs": [
        {
          "name": "stdout",
          "output_type": "stream",
          "text": [
            "\u001b[1m1/1\u001b[0m \u001b[32m━━━━━━━━━━━━━━━━━━━━\u001b[0m\u001b[37m\u001b[0m \u001b[1m0s\u001b[0m 210ms/step - loss: 0.0029\n",
            "Loss: 0.002890937961637974\n"
          ]
        }
      ],
      "source": [
        "loss = model.evaluate(X_test, y_test)\n",
        "print(f\"Loss: {loss}\")"
      ]
    },
    {
      "cell_type": "code",
      "execution_count": 7,
      "metadata": {
        "colab": {
          "base_uri": "https://localhost:8080/"
        },
        "id": "UPQQUC7WuaEM",
        "outputId": "d6f6c022-6210-4c32-d51c-a7b4da3af800"
      },
      "outputs": [
        {
          "name": "stdout",
          "output_type": "stream",
          "text": [
            "\u001b[1m1/1\u001b[0m \u001b[32m━━━━━━━━━━━━━━━━━━━━\u001b[0m\u001b[37m\u001b[0m \u001b[1m0s\u001b[0m 142ms/step\n"
          ]
        }
      ],
      "source": [
        "predictions = model.predict(X_test)"
      ]
    },
    {
      "cell_type": "code",
      "execution_count": 8,
      "metadata": {
        "colab": {
          "base_uri": "https://localhost:8080/",
          "height": 452
        },
        "id": "OfUHYE2Rudec",
        "outputId": "630eb5a3-8fd5-47a4-a1a1-5f1e22a2d434"
      },
      "outputs": [
        {
          "data": {
            "image/png": "[encoded data removed]",
            "text/plain": [
              "<Figure size 640x480 with 1 Axes>"
            ]
          },
          "metadata": {},
          "output_type": "display_data"
        }
      ],
      "source": [
        "import matplotlib.pyplot as plt\n",
        "\n",
        "# narysuj dane testowe\n",
        "plt.plot(y_test, label='True values')\n",
        "\n",
        "# narysuj przewidywane wartości\n",
        "plt.plot(predictions, label='Predictions')\n",
        "\n",
        "plt.title('Predictions vs True values')\n",
        "plt.legend()\n",
        "plt.show()\n"
      ]
    },
    {
      "cell_type": "markdown",
      "metadata": {
        "id": "hGMpyz_Puz3L"
      },
      "source": [
        "Zadanie 2: Stwórz sieć rekurencyjną typu SimpleRNN przy użyciu biblioteki Keras i naucz ją generować tekst na podstawie dostarczonego zbioru danych tekstowych."
      ]
    },
    {
      "cell_type": "code",
      "execution_count": 16,
      "metadata": {
        "id": "2s4LOXTYS62i"
      },
      "outputs": [],
      "source": [
        "import tensorflow as tf\n",
        "\n",
        "import numpy as np\n",
        "import os\n",
        "import time"
      ]
    },
    {
      "cell_type": "code",
      "execution_count": 17,
      "metadata": {
        "id": "Fgmqsrzdu_Oc"
      },
      "outputs": [],
      "source": [
        "path_to_file = tf.keras.utils.get_file('/content/shakespeare.txt', 'https://storage.googleapis.com/download.tensorflow.org/data/shakespeare.txt')"
      ]
    },
    {
      "cell_type": "code",
      "execution_count": 18,
      "metadata": {
        "colab": {
          "base_uri": "https://localhost:8080/"
        },
        "id": "vKgefSaIvAsi",
        "outputId": "38e59759-5d4f-439e-b28a-e844a54b54eb"
      },
      "outputs": [
        {
          "name": "stdout",
          "output_type": "stream",
          "text": [
            "Długość tekstu: 1115394\n",
            "Liczba sekwencji: 371785\n"
          ]
        }
      ],
      "source": [
        "import numpy as np\n",
        "from keras.models import Sequential\n",
        "from keras.layers import Dense, SimpleRNN, Activation\n",
        "from keras.optimizers import RMSprop\n",
        "\n",
        "# Wczytanie danych tekstowych\n",
        "with open('shakespeare.txt', 'r') as f:\n",
        "    text = f.read().lower()\n",
        "print('Długość tekstu:', len(text))\n",
        "\n",
        "# Tworzenie słownika znaków\n",
        "chars = sorted(list(set(text)))\n",
        "char_indices = dict((c, i) for i, c in enumerate(chars))\n",
        "indices_char = dict((i, c) for i, c in enumerate(chars))\n",
        "\n",
        "# Przygotowanie sekwencji danych wejściowych i wyjściowych\n",
        "maxlen = 40\n",
        "step = 3\n",
        "sentences = []\n",
        "next_chars = []\n",
        "for i in range(0, len(text) - maxlen, step):\n",
        "    sentences.append(text[i:i + maxlen])\n",
        "    next_chars.append(text[i + maxlen])\n",
        "print('Liczba sekwencji:', len(sentences))\n",
        "\n",
        "# Przygotowanie danych wejściowych i wyjściowych\n",
        "x = np.zeros((len(sentences), maxlen, len(chars)), dtype=bool)\n",
        "y = np.zeros((len(sentences), len(chars)), dtype=bool)\n",
        "for i, sentence in enumerate(sentences):\n",
        "    for t, char in enumerate(sentence):\n",
        "        x[i, t, char_indices[char]] = 1\n",
        "    y[i, char_indices[next_chars[i]]] = 1"
      ]
    },
    {
      "cell_type": "code",
      "execution_count": 20,
      "metadata": {
        "colab": {
          "base_uri": "https://localhost:8080/"
        },
        "id": "fRmLRH_yvD8U",
        "outputId": "e1cc7db8-21e9-4e74-e732-0ce0cb575370"
      },
      "outputs": [
        {
          "name": "stdout",
          "output_type": "stream",
          "text": [
            "Epoch 1/8\n",
            "\u001b[1m2905/2905\u001b[0m \u001b[32m━━━━━━━━━━━━━━━━━━━━\u001b[0m\u001b[37m\u001b[0m \u001b[1m103s\u001b[0m 35ms/step - loss: 2.9320\n",
            "Epoch 2/8\n",
            "\u001b[1m2905/2905\u001b[0m \u001b[32m━━━━━━━━━━━━━━━━━━━━\u001b[0m\u001b[37m\u001b[0m \u001b[1m146s\u001b[0m 36ms/step - loss: 2.5429\n",
            "Epoch 3/8\n",
            "\u001b[1m2905/2905\u001b[0m \u001b[32m━━━━━━━━━━━━━━━━━━━━\u001b[0m\u001b[37m\u001b[0m \u001b[1m139s\u001b[0m 35ms/step - loss: 2.4251\n",
            "Epoch 4/8\n",
            "\u001b[1m2905/2905\u001b[0m \u001b[32m━━━━━━━━━━━━━━━━━━━━\u001b[0m\u001b[37m\u001b[0m \u001b[1m101s\u001b[0m 35ms/step - loss: 2.3756\n",
            "Epoch 5/8\n",
            "\u001b[1m2905/2905\u001b[0m \u001b[32m━━━━━━━━━━━━━━━━━━━━\u001b[0m\u001b[37m\u001b[0m \u001b[1m146s\u001b[0m 36ms/step - loss: 2.4012\n",
            "Epoch 6/8\n",
            "\u001b[1m2905/2905\u001b[0m \u001b[32m━━━━━━━━━━━━━━━━━━━━\u001b[0m\u001b[37m\u001b[0m \u001b[1m138s\u001b[0m 35ms/step - loss: 2.8233\n",
            "Epoch 7/8\n",
            "\u001b[1m2905/2905\u001b[0m \u001b[32m━━━━━━━━━━━━━━━━━━━━\u001b[0m\u001b[37m\u001b[0m \u001b[1m143s\u001b[0m 35ms/step - loss: 2.9852\n",
            "Epoch 8/8\n",
            "\u001b[1m2905/2905\u001b[0m \u001b[32m━━━━━━━━━━━━━━━━━━━━\u001b[0m\u001b[37m\u001b[0m \u001b[1m141s\u001b[0m 35ms/step - loss: 3.0570\n"
          ]
        },
        {
          "data": {
            "text/plain": [
              "<keras.src.callbacks.history.History at 0x7a1a4eb07e50>"
            ]
          },
          "execution_count": 20,
          "metadata": {},
          "output_type": "execute_result"
        }
      ],
      "source": [
        "# Definicja modelu sieci rekurencyjnej\n",
        "model = Sequential()\n",
        "model.add(SimpleRNN(128, input_shape=(maxlen, len(chars))))\n",
        "model.add(Dense(len(chars)))\n",
        "model.add(Activation('softmax'))\n",
        "\n",
        "# Kompilacja modelu\n",
        "optimizer = RMSprop(learning_rate=0.01)\n",
        "model.compile(loss='categorical_crossentropy', optimizer=optimizer)\n",
        "\n",
        "# Nauczanie modelu\n",
        "model.fit(x, y, batch_size=128, epochs=8)\n"
      ]
    },
    {
      "cell_type": "code",
      "execution_count": 21,
      "metadata": {
        "colab": {
          "base_uri": "https://localhost:8080/"
        },
        "id": "YLlYEmOQvIei",
        "outputId": "d277d6ec-9bb5-4838-f7af-9e385db3175c"
      },
      "outputs": [
        {
          "name": "stdout",
          "output_type": "stream",
          "text": [
            "--- Początek generowanego tekstu: \"\n",
            "3 king henry vi\n",
            "\n",
            "king edward iv:\n",
            "once m\"\n",
            "--- Wygenerowany tekst: \"\n",
            " oo  oanon h mano \n",
            "\n",
            "ano ao ar:yoa:\n",
            "mon \"\n"
          ]
        }
      ],
      "source": [
        "# Generowanie tekstu\n",
        "start_index = np.random.randint(0, len(text) - maxlen - 1)\n",
        "generated_text = text[start_index:start_index + maxlen]\n",
        "print('--- Początek generowanego tekstu: \"' + generated_text + '\"')\n",
        "\n",
        "for i in range(400):\n",
        "    x_pred = np.zeros((1, maxlen, len(chars)))\n",
        "    for t, char in enumerate(generated_text):\n",
        "        x_pred[0, t, char_indices[char]] = 1\n",
        "    preds = model.predict(x_pred, verbose=0)[0]\n",
        "    next_index = np.argmax(preds)\n",
        "    next_char = indices_char[next_index]\n",
        "    generated_text += next_char\n",
        "    generated_text = generated_text[1:]\n",
        "\n",
        "print('--- Wygenerowany tekst: \"' + generated_text + '\"')"
      ]
    },
    {
      "cell_type": "markdown",
      "metadata": {
        "id": "LdH9uVm_vNPU"
      },
      "source": [
        "Zadanie 3: Stwórz sieć rekurencyjną typu SimpleRNN przy użyciu biblioteki Keras i naucz ją klasyfikować tekst na podstawie dostarczonego zbioru danych tekstowych."
      ]
    },
    {
      "cell_type": "code",
      "execution_count": 22,
      "metadata": {
        "colab": {
          "base_uri": "https://localhost:8080/"
        },
        "id": "Fi5ppgsLvQcw",
        "outputId": "00e65981-f174-4690-88cf-ee1126f1ff5d"
      },
      "outputs": [
        {
          "name": "stdout",
          "output_type": "stream",
          "text": [
            "Downloading data from https://storage.googleapis.com/tensorflow/tf-keras-datasets/imdb.npz\n",
            "\u001b[1m17464789/17464789\u001b[0m \u001b[32m━━━━━━━━━━━━━━━━━━━━\u001b[0m\u001b[37m\u001b[0m \u001b[1m0s\u001b[0m 0us/step\n",
            "Epoch 1/2\n"
          ]
        },
        {
          "name": "stderr",
          "output_type": "stream",
          "text": [
            "/usr/local/lib/python3.10/dist-packages/keras/src/layers/core/embedding.py:90: UserWarning: Argument `input_length` is deprecated. Just remove it.\n",
            "  warnings.warn(\n"
          ]
        },
        {
          "name": "stdout",
          "output_type": "stream",
          "text": [
            "\u001b[1m782/782\u001b[0m \u001b[32m━━━━━━━━━━━━━━━━━━━━\u001b[0m\u001b[37m\u001b[0m \u001b[1m28s\u001b[0m 33ms/step - accuracy: 0.6623 - loss: 0.6015 - val_accuracy: 0.7836 - val_loss: 0.4661\n",
            "Epoch 2/2\n",
            "\u001b[1m782/782\u001b[0m \u001b[32m━━━━━━━━━━━━━━━━━━━━\u001b[0m\u001b[37m\u001b[0m \u001b[1m41s\u001b[0m 33ms/step - accuracy: 0.8509 - loss: 0.3497 - val_accuracy: 0.7932 - val_loss: 0.4370\n"
          ]
        },
        {
          "data": {
            "text/plain": [
              "<keras.src.callbacks.history.History at 0x7a1a4eb3b8b0>"
            ]
          },
          "execution_count": 22,
          "metadata": {},
          "output_type": "execute_result"
        }
      ],
      "source": [
        "import numpy as np\n",
        "from keras.datasets import imdb\n",
        "from keras.models import Sequential\n",
        "from keras.layers import Dense, SimpleRNN, Embedding\n",
        "from tensorflow.keras.preprocessing.sequence import pad_sequences\n",
        "\n",
        "# ustalenie hiperparametrów\n",
        "max_features = 10000  # maksymalna liczba słów\n",
        "maxlen = 100  # maksymalna długość sekwencji słów\n",
        "batch_size = 32\n",
        "embedding_dims = 50  # liczba wymiarów przestrzeni osadzeń słów\n",
        "hidden_dims = 32  # liczba neuronów w warstwie ukrytej\n",
        "\n",
        "# załadowanie danych IMDB\n",
        "(x_train, y_train), (x_test, y_test) = imdb.load_data(num_words=max_features)\n",
        "\n",
        "# dostosowanie długości sekwencji słów\n",
        "x_train = pad_sequences(x_train, maxlen=maxlen)\n",
        "x_test = pad_sequences(x_test, maxlen=maxlen)\n",
        "\n",
        "# utworzenie modelu sieci neuronowej\n",
        "model = Sequential()\n",
        "model.add(Embedding(max_features, embedding_dims, input_length=maxlen))\n",
        "model.add(SimpleRNN(hidden_dims))\n",
        "model.add(Dense(1, activation='sigmoid'))\n",
        "\n",
        "# kompilacja modelu\n",
        "model.compile(loss='binary_crossentropy', optimizer='adam', metrics=['accuracy'])\n",
        "\n",
        "# uczenie modelu\n",
        "model.fit(x_train, y_train, batch_size=batch_size, epochs=2, validation_data=(x_test, y_test))"
      ]
    },
    {
      "cell_type": "code",
      "execution_count": 23,
      "metadata": {
        "colab": {
          "base_uri": "https://localhost:8080/"
        },
        "id": "qDDpNGayvZPV",
        "outputId": "4599b8fc-82fe-4fd7-e06d-2b3c49c7c3b1"
      },
      "outputs": [
        {
          "name": "stdout",
          "output_type": "stream",
          "text": [
            "Downloading data from https://storage.googleapis.com/tensorflow/tf-keras-datasets/imdb_word_index.json\n",
            "\u001b[1m1641221/1641221\u001b[0m \u001b[32m━━━━━━━━━━━━━━━━━━━━\u001b[0m\u001b[37m\u001b[0m \u001b[1m0s\u001b[0m 0us/step\n",
            "Tekst: king of queens has in an era where most sitcoms have ? jokes and are on the whole mediocre king of queens continues to push the sitcom ? and show real comic genius critics of this show obviously don't get it or haven't watched the show enough to give it a chance because anyone with real comic and creative sensibility has to laugh out loud while watching it's certainly on par with my other two favorites seinfeld and the office in its ridiculous tone it's the ? and michael ? of tv that keep us watching and laughing out loud\n",
            "Etykieta:1\n",
            "\u001b[1m1/1\u001b[0m \u001b[32m━━━━━━━━━━━━━━━━━━━━\u001b[0m\u001b[37m\u001b[0m \u001b[1m0s\u001b[0m 177ms/step\n",
            "Predykcja: [0.5268257]\n"
          ]
        }
      ],
      "source": [
        "# Przygotowanie słownika mapowania identyfikatorów słów na słowa\n",
        "word_index = imdb.get_word_index()\n",
        "reverse_word_index = dict([(value, key) for (key, value) in word_index.items()])\n",
        "\n",
        "# Wybór losowej sekwencji tekstowej z testowego zestawu danych\n",
        "sample = np.random.randint(len(x_test))\n",
        "text = x_test[sample]\n",
        "label = y_test[sample]\n",
        "\n",
        "# Wartości w zakresie 0-2 są zarezerwowane dla specjalnych znaków, zacznijmy od indeksu 3\n",
        "decoded_review = ' '.join([reverse_word_index.get(i - 3, '?') for i in text])\n",
        "print(f\"Tekst: {decoded_review}\")\n",
        "print(f\"Etykieta:{label}\")\n",
        "\n",
        "# Dokonanie predykcji na przykładowych danych\n",
        "prediction = model.predict(np.array([text]))\n",
        "print(f\"Predykcja: {prediction[0]}\")\n"
      ]
    },
    {
      "cell_type": "markdown",
      "metadata": {
        "id": "2MFTQSRcvgbG"
      },
      "source": [
        "Zadanie 4: Stwórz sieć rekurencyjną typu LSTM przy użyciu biblioteki Keras i naucz ją klasyfikować tekst na podstawie dostarczonego zbioru danych tekstowych."
      ]
    },
    {
      "cell_type": "code",
      "execution_count": 24,
      "metadata": {
        "colab": {
          "base_uri": "https://localhost:8080/"
        },
        "id": "AoA5KWiGdVN8",
        "outputId": "65983599-3981-4373-88da-ffb241a936df"
      },
      "outputs": [
        {
          "name": "stdout",
          "output_type": "stream",
          "text": [
            "Epoch 1/2\n",
            "\u001b[1m782/782\u001b[0m \u001b[32m━━━━━━━━━━━━━━━━━━━━\u001b[0m\u001b[37m\u001b[0m \u001b[1m48s\u001b[0m 59ms/step - accuracy: 0.7278 - loss: 0.5112 - val_accuracy: 0.8507 - val_loss: 0.3389\n",
            "Epoch 2/2\n",
            "\u001b[1m782/782\u001b[0m \u001b[32m━━━━━━━━━━━━━━━━━━━━\u001b[0m\u001b[37m\u001b[0m \u001b[1m80s\u001b[0m 57ms/step - accuracy: 0.8950 - loss: 0.2668 - val_accuracy: 0.8501 - val_loss: 0.3506\n"
          ]
        },
        {
          "data": {
            "text/plain": [
              "<keras.src.callbacks.history.History at 0x7a1a461bc850>"
            ]
          },
          "execution_count": 24,
          "metadata": {},
          "output_type": "execute_result"
        }
      ],
      "source": [
        "import numpy as np\n",
        "from keras.datasets import imdb\n",
        "from keras.models import Sequential\n",
        "from keras.layers import Dense, LSTM, Embedding\n",
        "from tensorflow.keras.preprocessing.sequence import pad_sequences\n",
        "\n",
        "# set hyperparameters\n",
        "max_features = 10000  # maximum number of words\n",
        "maxlen = 100  # maximum sequence length\n",
        "batch_size = 32\n",
        "embedding_dims = 50  # dimensionality of word embeddings\n",
        "hidden_dims = 32  # number of neurons in the hidden layer\n",
        "\n",
        "# load IMDB dataset\n",
        "(x_train, y_train), (x_test, y_test) = imdb.load_data(num_words=max_features)\n",
        "\n",
        "# adjust sequence lengths\n",
        "x_train = pad_sequences(x_train, maxlen=maxlen)\n",
        "x_test = pad_sequences(x_test, maxlen=maxlen)\n",
        "\n",
        "# build the neural network model\n",
        "model = Sequential()\n",
        "model.add(Embedding(max_features, embedding_dims, input_length=maxlen))\n",
        "model.add(LSTM(hidden_dims))\n",
        "model.add(Dense(1, activation='sigmoid'))\n",
        "\n",
        "# compile the model\n",
        "model.compile(loss='binary_crossentropy', optimizer='adam', metrics=['accuracy'])\n",
        "\n",
        "# train the model\n",
        "model.fit(x_train, y_train, batch_size=batch_size, epochs=2, validation_data=(x_test, y_test))\n"
      ]
    },
    {
      "cell_type": "code",
      "execution_count": null,
      "metadata": {
        "colab": {
          "base_uri": "https://localhost:8080/"
        },
        "id": "kNorBdX0dcM3",
        "outputId": "4246150c-0cbe-4876-d0ef-3cf2fecf3f74"
      },
      "outputs": [
        {
          "name": "stdout",
          "output_type": "stream",
          "text": [
            "Tekst: howard hughes in his all too successful effort to kill off rko radio pictures br br the movie kills its first opportunity to show off sexy jane when it places her in a bubble bath and then has her singing i'll be switched if i ain't ? ? and it's all downhill from there in her autobiography russell ? for the movie's number ? for trouble because it was supposedly so ? nowadays you could show it on the disney channel by the way said autobiography has a jaw dropping photo of russell in a bikini far ? than anything\n",
            "Etykieta:0\n",
            "1/1 [==============================] - 1s 645ms/step\n",
            "Predykcja: [0.02273359]\n"
          ]
        }
      ],
      "source": [
        "# Przygotowanie słownika mapowania identyfikatorów słów na słowa\n",
        "word_index = imdb.get_word_index()\n",
        "reverse_word_index = dict([(value, key) for (key, value) in word_index.items()])\n",
        "\n",
        "# Wybór losowej sekwencji tekstowej z testowego zestawu danych\n",
        "sample = np.random.randint(len(x_test))\n",
        "text = x_test[sample]\n",
        "label = y_test[sample]\n",
        "\n",
        "# Wartości w zakresie 0-2 są zarezerwowane dla specjalnych znaków, zacznijmy od indeksu 3\n",
        "decoded_review = ' '.join([reverse_word_index.get(i - 3, '?') for i in text])\n",
        "print(f\"Tekst: {decoded_review}\")\n",
        "print(f\"Etykieta:{label}\")\n",
        "\n",
        "# Dokonanie predykcji na przykładowych danych\n",
        "prediction = model.predict(np.array([text]))\n",
        "print(f\"Predykcja: {prediction[0]}\")\n"
      ]
    },
    {
      "cell_type": "markdown",
      "metadata": {
        "id": "Ptf8lcIGvzyl"
      },
      "source": [
        "Zadanie 5: Stwórz sieć rekurencyjną (z wykorzystaniem GRU) przy użyciu biblioteki Keras i naucz ją klasyfikować tekst na podstawie dostarczonego zbioru danych tekstowych."
      ]
    },
    {
      "cell_type": "code",
      "execution_count": null,
      "metadata": {
        "colab": {
          "base_uri": "https://localhost:8080/"
        },
        "id": "HCECkE8FejTr",
        "outputId": "47cbd10e-2349-4bb1-9e25-c05edd679ac7"
      },
      "outputs": [
        {
          "name": "stdout",
          "output_type": "stream",
          "text": [
            "25000 train sequences\n",
            "25000 test sequences\n",
            "input_train shape: (25000, 80)\n",
            "input_test shape: (25000, 80)\n",
            "Training...\n",
            "Epoch 1/10\n",
            "782/782 [==============================] - 315s 397ms/step - loss: 0.4331 - accuracy: 0.7961 - val_loss: 0.3525 - val_accuracy: 0.8482\n",
            "Epoch 2/10\n",
            "782/782 [==============================] - 304s 389ms/step - loss: 0.2437 - accuracy: 0.9044 - val_loss: 0.3563 - val_accuracy: 0.8471\n",
            "Epoch 3/10\n",
            "782/782 [==============================] - 283s 362ms/step - loss: 0.1390 - accuracy: 0.9492 - val_loss: 0.4252 - val_accuracy: 0.8360\n",
            "Epoch 4/10\n",
            "399/782 [==============>...............] - ETA: 1:49 - loss: 0.0691 - accuracy: 0.9763"
          ]
        }
      ],
      "source": [
        "from keras.datasets import imdb\n",
        "from keras.preprocessing import sequence\n",
        "from keras.models import Sequential\n",
        "from keras.layers import Dense, Embedding, GRU\n",
        "from tensorflow.keras.preprocessing.sequence import pad_sequences\n",
        "\n",
        "max_features = 20000  # Liczba słów, które chcemy zastosować w analizie\n",
        "maxlen = 80  # Maksymalna liczba słów w recenzji\n",
        "batch_size = 32  # Liczba recenzji przetwarzana jednocześnie\n",
        "\n",
        "(input_train, y_train), (input_test, y_test) = imdb.load_data(num_words=max_features)\n",
        "print(len(input_train), 'train sequences')\n",
        "print(len(input_test), 'test sequences')\n",
        "\n",
        "# Dopełnij recenzje zerami, jeśli są za krótkie, lub obetnij, jeśli są za długie\n",
        "input_train = pad_sequences(input_train, maxlen=maxlen)\n",
        "input_test = pad_sequences(input_test, maxlen=maxlen)\n",
        "print('input_train shape:', input_train.shape)\n",
        "print('input_test shape:', input_test.shape)\n",
        "\n",
        "# Model sieci rekurencyjnej z GRU\n",
        "model = Sequential()\n",
        "model.add(Embedding(max_features, 128))\n",
        "model.add(GRU(128, dropout=0.2, recurrent_dropout=0.2))\n",
        "model.add(Dense(1, activation='sigmoid'))\n",
        "\n",
        "# Kompilacja modelu\n",
        "model.compile(loss='binary_crossentropy',\n",
        "              optimizer='adam',\n",
        "              metrics=['accuracy'])\n",
        "\n",
        "# Trenowanie modelu\n",
        "print('Training...')\n",
        "model.fit(input_train, y_train,\n",
        "          batch_size=batch_size,\n",
        "          epochs=4,\n",
        "          validation_data=(input_test, y_test))\n",
        "\n",
        "# Ocena modelu\n",
        "scores = model.evaluate(input_test, y_test, verbose=0)\n",
        "print('Test accuracy:', scores[1])\n"
      ]
    },
    {
      "cell_type": "markdown",
      "metadata": {},
      "source": [
        "# Zadanie 6: Stwórz sieć rekurencyjną z wykorzystaniem SimpleRRN do przyblizenia wartosci funkcji Rastragin, Ackley oraz Rosenbrock.\n"
      ]
    },
    {
      "cell_type": "markdown",
      "metadata": {},
      "source": [
        "Wykorzystaj biblioteke numpy i ponizsze funkcje albo zaimplemntuj samemu badz skorzystaj z biblioteki scipy.\n",
        "\n",
        "```\n",
        "import numpy as np\n",
        "```\n",
        "\n",
        "Rastragin function\n",
        "```\n",
        "def rastragin(x):\n",
        "    return 10 * len(x) + np.sum(x**2 - 10 * np.cos(2 * np.pi * x))\n",
        "\n",
        "input_data = np.random.random((1000, 10)) # 1000 sequences of length 10\n",
        "output_data = np.apply_along_axis(rastragin, 1, input_data)\n",
        "```\n",
        "\n",
        "Ackley function\n",
        "```\n",
        "def ackley(x):\n",
        "    a = 20\n",
        "    b = 0.2\n",
        "    c = 2 * np.pi\n",
        "    d = len(x)\n",
        "    sum1 = -a * np.exp(-b * np.sqrt(1/d * np.sum(x**2)))\n",
        "    sum2 = -np.exp(1/d * np.sum(np.cos(c*x)))\n",
        "    return sum1 + sum2 + a + np.exp(1)\n",
        "\n",
        "input_data = np.random.uniform(low=-5.0, high=5.0, size=(1000, 2)) # 1000 samples of 2-dimensional data\n",
        "output_data = np.apply_along_axis(ackley, 1, input_data)\n",
        "```\n",
        "\n",
        "Rosenbrock function\n",
        "```\n",
        "def rosenbrock(x):\n",
        "    return np.sum(100 * (x[1:] - x[:-1]**2)**2 + (1 - x[:-1])**2)\n",
        "\n",
        "input_data = np.random.uniform(low=-2.0, high=2.0, size=(1000, 2)) # 1000 samples of 2-dimensional data\n",
        "output_data = np.apply_along_axis(rosenbrock, 1, input_data)\n",
        "```"
      ]
    },
    {
      "cell_type": "code",
      "execution_count": null,
      "metadata": {},
      "outputs": [],
      "source": [
        "import numpy as np\n",
        "\n",
        "def rastragin(X):\n",
        "    A = 10.0\n",
        "    delta = [x**2 - A * np.cos(2 * np.pi * x) for x in X]\n",
        "    y = A + sum(delta)\n",
        "    return [y]\n",
        "\n",
        "input_data = np.random.random((1000, 10)) # 1000 sequences of length 10\n",
        "output_data = np.apply_along_axis(rastragin, 1, input_data)\n",
        "output_data = output_data/max(output_data)\n",
        "\n",
        "train_size = int(len(input_data) * 0.8)\n",
        "X_train, X_test = input_data[:train_size], input_data[train_size:]\n",
        "y_train, y_test = output_data[:train_size], output_data[train_size:]\n",
        "\n",
        "model = Sequential()\n",
        "model.add(SimpleRNN(32, input_shape=(X_train.shape[1], 1)))\n",
        "model.add(Dense(1, activation='linear'))\n",
        "model.compile(optimizer='sgd', loss='logcosh')"
      ]
    },
    {
      "cell_type": "code",
      "execution_count": null,
      "metadata": {},
      "outputs": [
        {
          "name": "stdout",
          "output_type": "stream",
          "text": [
            "Epoch 1/100\n",
            "100/100 [==============================] - 1s 4ms/step - loss: 0.0501\n",
            "Epoch 2/100\n",
            "100/100 [==============================] - 0s 5ms/step - loss: 0.0471\n",
            "Epoch 3/100\n",
            "100/100 [==============================] - 1s 6ms/step - loss: 0.0460\n",
            "Epoch 4/100\n",
            "100/100 [==============================] - 1s 6ms/step - loss: 0.0452\n",
            "Epoch 5/100\n",
            "100/100 [==============================] - 1s 6ms/step - loss: 0.0446\n",
            "Epoch 6/100\n",
            "100/100 [==============================] - 1s 6ms/step - loss: 0.0439\n",
            "Epoch 7/100\n",
            "100/100 [==============================] - 0s 5ms/step - loss: 0.0438\n",
            "Epoch 8/100\n",
            "100/100 [==============================] - 0s 4ms/step - loss: 0.0433\n",
            "Epoch 9/100\n",
            "100/100 [==============================] - 0s 4ms/step - loss: 0.0431\n",
            "Epoch 10/100\n",
            "100/100 [==============================] - 0s 4ms/step - loss: 0.0428\n",
            "Epoch 11/100\n",
            "100/100 [==============================] - 0s 4ms/step - loss: 0.0424\n",
            "Epoch 12/100\n",
            "100/100 [==============================] - 0s 4ms/step - loss: 0.0424\n",
            "Epoch 13/100\n",
            "100/100 [==============================] - 0s 4ms/step - loss: 0.0415\n",
            "Epoch 14/100\n",
            "100/100 [==============================] - 0s 5ms/step - loss: 0.0416\n",
            "Epoch 15/100\n",
            "100/100 [==============================] - 0s 4ms/step - loss: 0.0418\n",
            "Epoch 16/100\n",
            "100/100 [==============================] - 0s 4ms/step - loss: 0.0411\n",
            "Epoch 17/100\n",
            "100/100 [==============================] - 0s 4ms/step - loss: 0.0411\n",
            "Epoch 18/100\n",
            "100/100 [==============================] - 0s 4ms/step - loss: 0.0405\n",
            "Epoch 19/100\n",
            "100/100 [==============================] - 0s 4ms/step - loss: 0.0404\n",
            "Epoch 20/100\n",
            "100/100 [==============================] - 0s 4ms/step - loss: 0.0401\n",
            "Epoch 21/100\n",
            "100/100 [==============================] - 0s 4ms/step - loss: 0.0398\n",
            "Epoch 22/100\n",
            "100/100 [==============================] - 0s 4ms/step - loss: 0.0396\n",
            "Epoch 23/100\n",
            "100/100 [==============================] - 0s 4ms/step - loss: 0.0395\n",
            "Epoch 24/100\n",
            "100/100 [==============================] - 0s 5ms/step - loss: 0.0394\n",
            "Epoch 25/100\n",
            "100/100 [==============================] - 0s 4ms/step - loss: 0.0388\n",
            "Epoch 26/100\n",
            "100/100 [==============================] - 0s 4ms/step - loss: 0.0386\n",
            "Epoch 27/100\n",
            "100/100 [==============================] - 0s 4ms/step - loss: 0.0384\n",
            "Epoch 28/100\n",
            "100/100 [==============================] - 0s 4ms/step - loss: 0.0380\n",
            "Epoch 29/100\n",
            "100/100 [==============================] - 1s 6ms/step - loss: 0.0378\n",
            "Epoch 30/100\n",
            "100/100 [==============================] - 1s 6ms/step - loss: 0.0374\n",
            "Epoch 31/100\n",
            "100/100 [==============================] - 1s 6ms/step - loss: 0.0370\n",
            "Epoch 32/100\n",
            "100/100 [==============================] - 1s 6ms/step - loss: 0.0364\n",
            "Epoch 33/100\n",
            "100/100 [==============================] - 0s 5ms/step - loss: 0.0366\n",
            "Epoch 34/100\n",
            "100/100 [==============================] - 0s 4ms/step - loss: 0.0361\n",
            "Epoch 35/100\n",
            "100/100 [==============================] - 0s 4ms/step - loss: 0.0360\n",
            "Epoch 36/100\n",
            "100/100 [==============================] - 0s 4ms/step - loss: 0.0353\n",
            "Epoch 37/100\n",
            "100/100 [==============================] - 0s 4ms/step - loss: 0.0351\n",
            "Epoch 38/100\n",
            "100/100 [==============================] - 0s 4ms/step - loss: 0.0350\n",
            "Epoch 39/100\n",
            "100/100 [==============================] - 0s 4ms/step - loss: 0.0346\n",
            "Epoch 40/100\n",
            "100/100 [==============================] - 0s 4ms/step - loss: 0.0340\n",
            "Epoch 41/100\n",
            "100/100 [==============================] - 0s 4ms/step - loss: 0.0340\n",
            "Epoch 42/100\n",
            "100/100 [==============================] - 0s 4ms/step - loss: 0.0335\n",
            "Epoch 43/100\n",
            "100/100 [==============================] - 0s 4ms/step - loss: 0.0331\n",
            "Epoch 44/100\n",
            "100/100 [==============================] - 0s 4ms/step - loss: 0.0325\n",
            "Epoch 45/100\n",
            "100/100 [==============================] - 0s 4ms/step - loss: 0.0326\n",
            "Epoch 46/100\n",
            "100/100 [==============================] - 0s 4ms/step - loss: 0.0319\n",
            "Epoch 47/100\n",
            "100/100 [==============================] - 0s 4ms/step - loss: 0.0319\n",
            "Epoch 48/100\n",
            "100/100 [==============================] - 0s 4ms/step - loss: 0.0312\n",
            "Epoch 49/100\n",
            "100/100 [==============================] - 0s 4ms/step - loss: 0.0308\n",
            "Epoch 50/100\n",
            "100/100 [==============================] - 0s 4ms/step - loss: 0.0305\n",
            "Epoch 51/100\n",
            "100/100 [==============================] - 0s 4ms/step - loss: 0.0300\n",
            "Epoch 52/100\n",
            "100/100 [==============================] - 0s 4ms/step - loss: 0.0297\n",
            "Epoch 53/100\n",
            "100/100 [==============================] - 0s 4ms/step - loss: 0.0288\n",
            "Epoch 54/100\n",
            "100/100 [==============================] - 0s 4ms/step - loss: 0.0286\n",
            "Epoch 55/100\n",
            "100/100 [==============================] - 1s 6ms/step - loss: 0.0280\n",
            "Epoch 56/100\n",
            "100/100 [==============================] - 1s 6ms/step - loss: 0.0277\n",
            "Epoch 57/100\n",
            "100/100 [==============================] - 1s 6ms/step - loss: 0.0269\n",
            "Epoch 58/100\n",
            "100/100 [==============================] - 1s 6ms/step - loss: 0.0264\n",
            "Epoch 59/100\n",
            "100/100 [==============================] - 0s 4ms/step - loss: 0.0257\n",
            "Epoch 60/100\n",
            "100/100 [==============================] - 0s 4ms/step - loss: 0.0246\n",
            "Epoch 61/100\n",
            "100/100 [==============================] - 0s 4ms/step - loss: 0.0244\n",
            "Epoch 62/100\n",
            "100/100 [==============================] - 0s 4ms/step - loss: 0.0237\n",
            "Epoch 63/100\n",
            "100/100 [==============================] - 0s 4ms/step - loss: 0.0232\n",
            "Epoch 64/100\n",
            "100/100 [==============================] - 0s 4ms/step - loss: 0.0226\n",
            "Epoch 65/100\n",
            "100/100 [==============================] - 0s 4ms/step - loss: 0.0224\n",
            "Epoch 66/100\n",
            "100/100 [==============================] - 0s 4ms/step - loss: 0.0222\n",
            "Epoch 67/100\n",
            "100/100 [==============================] - 0s 4ms/step - loss: 0.0209\n",
            "Epoch 68/100\n",
            "100/100 [==============================] - 0s 4ms/step - loss: 0.0208\n",
            "Epoch 69/100\n",
            "100/100 [==============================] - 0s 4ms/step - loss: 0.0207\n",
            "Epoch 70/100\n",
            "100/100 [==============================] - 0s 4ms/step - loss: 0.0202\n",
            "Epoch 71/100\n",
            "100/100 [==============================] - 0s 4ms/step - loss: 0.0194\n",
            "Epoch 72/100\n",
            "100/100 [==============================] - 0s 5ms/step - loss: 0.0200\n",
            "Epoch 73/100\n",
            "100/100 [==============================] - 1s 6ms/step - loss: 0.0190\n",
            "Epoch 74/100\n",
            "100/100 [==============================] - 1s 8ms/step - loss: 0.0189\n",
            "Epoch 75/100\n",
            "100/100 [==============================] - 1s 8ms/step - loss: 0.0185\n",
            "Epoch 76/100\n",
            "100/100 [==============================] - 0s 5ms/step - loss: 0.0185\n",
            "Epoch 77/100\n",
            "100/100 [==============================] - 0s 4ms/step - loss: 0.0184\n",
            "Epoch 78/100\n",
            "100/100 [==============================] - 0s 4ms/step - loss: 0.0178\n",
            "Epoch 79/100\n",
            "100/100 [==============================] - 1s 6ms/step - loss: 0.0177\n",
            "Epoch 80/100\n",
            "100/100 [==============================] - 1s 7ms/step - loss: 0.0176\n",
            "Epoch 81/100\n",
            "100/100 [==============================] - 1s 6ms/step - loss: 0.0168\n",
            "Epoch 82/100\n",
            "100/100 [==============================] - 1s 6ms/step - loss: 0.0177\n",
            "Epoch 83/100\n",
            "100/100 [==============================] - 0s 4ms/step - loss: 0.0166\n",
            "Epoch 84/100\n",
            "100/100 [==============================] - 0s 4ms/step - loss: 0.0165\n",
            "Epoch 85/100\n",
            "100/100 [==============================] - 0s 4ms/step - loss: 0.0166\n",
            "Epoch 86/100\n",
            "100/100 [==============================] - 0s 4ms/step - loss: 0.0165\n",
            "Epoch 87/100\n",
            "100/100 [==============================] - 0s 4ms/step - loss: 0.0162\n",
            "Epoch 88/100\n",
            "100/100 [==============================] - 0s 5ms/step - loss: 0.0157\n",
            "Epoch 89/100\n",
            "100/100 [==============================] - 0s 4ms/step - loss: 0.0159\n",
            "Epoch 90/100\n",
            "100/100 [==============================] - 0s 4ms/step - loss: 0.0158\n",
            "Epoch 91/100\n",
            "100/100 [==============================] - 0s 4ms/step - loss: 0.0155\n",
            "Epoch 92/100\n",
            "100/100 [==============================] - 0s 4ms/step - loss: 0.0154\n",
            "Epoch 93/100\n",
            "100/100 [==============================] - 0s 5ms/step - loss: 0.0151\n",
            "Epoch 94/100\n",
            "100/100 [==============================] - 0s 4ms/step - loss: 0.0149\n",
            "Epoch 95/100\n",
            "100/100 [==============================] - 0s 4ms/step - loss: 0.0149\n",
            "Epoch 96/100\n",
            "100/100 [==============================] - 0s 5ms/step - loss: 0.0143\n",
            "Epoch 97/100\n",
            "100/100 [==============================] - 0s 4ms/step - loss: 0.0149\n",
            "Epoch 98/100\n",
            "100/100 [==============================] - 0s 4ms/step - loss: 0.0143\n",
            "Epoch 99/100\n",
            "100/100 [==============================] - 0s 4ms/step - loss: 0.0145\n",
            "Epoch 100/100\n",
            "100/100 [==============================] - 0s 4ms/step - loss: 0.0146\n",
            "7/7 [==============================] - 1s 4ms/step - loss: 0.0184\n",
            "Loss: 0.018384436145424843\n",
            "7/7 [==============================] - 0s 3ms/step\n"
          ]
        }
      ],
      "source": [
        "model.fit(X_train, y_train, epochs=100, batch_size=8)\n",
        "loss = model.evaluate(X_test, y_test)\n",
        "print(f\"Loss: {loss}\")\n",
        "predictions = model.predict(X_test)"
      ]
    },
    {
      "cell_type": "code",
      "execution_count": null,
      "metadata": {},
      "outputs": [
        {
          "data": {
            "image/png": "[encoded data removed]",
            "text/plain": [
              "<Figure size 432x288 with 1 Axes>"
            ]
          },
          "metadata": {},
          "output_type": "display_data"
        }
      ],
      "source": [
        "import matplotlib.pyplot as plt\n",
        "\n",
        "# narysuj dane testowe\n",
        "plt.plot(y_test, label='True values')\n",
        "\n",
        "# narysuj przewidywane wartości\n",
        "plt.plot(predictions, label='Predictions')\n",
        "\n",
        "plt.title('Predictions vs True values')\n",
        "plt.legend()\n",
        "plt.show()"
      ]
    },
    {
      "cell_type": "code",
      "execution_count": null,
      "metadata": {},
      "outputs": [],
      "source": [
        "def ackley(x):\n",
        "    a = 20\n",
        "    b = 0.2\n",
        "    c = 2 * np.pi\n",
        "    d = len(x)\n",
        "    sum1 = -a * np.exp(-b * np.sqrt(1/d * np.sum(x**2)))\n",
        "    sum2 = -np.exp(1/d * np.sum(np.cos(c*x)))\n",
        "    return sum1 + sum2 + a + np.exp(1)\n",
        "\n",
        "input_data = np.random.uniform(low=-5.0, high=5.0, size=(1000, 2)) # 1000 samples of 2-dimensional data\n",
        "output_data = np.apply_along_axis(ackley, 1, input_data)"
      ]
    },
    {
      "cell_type": "code",
      "execution_count": null,
      "metadata": {},
      "outputs": [],
      "source": [
        "train_size = int(len(input_data) * 0.8)\n",
        "X_train, X_test = input_data[:train_size], input_data[train_size:]\n",
        "y_train, y_test = output_data[:train_size], output_data[train_size:]"
      ]
    },
    {
      "cell_type": "code",
      "execution_count": null,
      "metadata": {},
      "outputs": [],
      "source": [
        "model = Sequential()\n",
        "model.add(SimpleRNN(32, input_shape=(X_train.shape[1], 1)))\n",
        "model.add(Dense(1, activation='linear'))\n",
        "model.compile(optimizer='sgd', loss='logcosh')"
      ]
    },
    {
      "cell_type": "code",
      "execution_count": null,
      "metadata": {},
      "outputs": [
        {
          "name": "stdout",
          "output_type": "stream",
          "text": [
            "Epoch 1/20\n",
            "100/100 [==============================] - 1s 3ms/step - loss: 7.1931\n",
            "Epoch 2/20\n",
            "100/100 [==============================] - 0s 3ms/step - loss: 2.1857\n",
            "Epoch 3/20\n",
            "100/100 [==============================] - 0s 3ms/step - loss: 1.6278\n",
            "Epoch 4/20\n",
            "100/100 [==============================] - 0s 3ms/step - loss: 1.5598\n",
            "Epoch 5/20\n",
            "100/100 [==============================] - 0s 3ms/step - loss: 1.5201\n",
            "Epoch 6/20\n",
            "100/100 [==============================] - 0s 3ms/step - loss: 1.4793\n",
            "Epoch 7/20\n",
            "100/100 [==============================] - 0s 3ms/step - loss: 1.4368\n",
            "Epoch 8/20\n",
            "100/100 [==============================] - 0s 3ms/step - loss: 1.3780\n",
            "Epoch 9/20\n",
            "100/100 [==============================] - 0s 3ms/step - loss: 1.3169\n",
            "Epoch 10/20\n",
            "100/100 [==============================] - 0s 3ms/step - loss: 1.2366\n",
            "Epoch 11/20\n",
            "100/100 [==============================] - 0s 3ms/step - loss: 1.1440\n",
            "Epoch 12/20\n",
            "100/100 [==============================] - 0s 3ms/step - loss: 1.0095\n",
            "Epoch 13/20\n",
            "100/100 [==============================] - 0s 3ms/step - loss: 0.8277\n",
            "Epoch 14/20\n",
            "100/100 [==============================] - 0s 4ms/step - loss: 0.6110\n",
            "Epoch 15/20\n",
            "100/100 [==============================] - 0s 4ms/step - loss: 0.4705\n",
            "Epoch 16/20\n",
            "100/100 [==============================] - 0s 4ms/step - loss: 0.3997\n",
            "Epoch 17/20\n",
            "100/100 [==============================] - 0s 4ms/step - loss: 0.3644\n",
            "Epoch 18/20\n",
            "100/100 [==============================] - 0s 4ms/step - loss: 0.3399\n",
            "Epoch 19/20\n",
            "100/100 [==============================] - 0s 3ms/step - loss: 0.3128\n",
            "Epoch 20/20\n",
            "100/100 [==============================] - 0s 3ms/step - loss: 0.2838\n",
            "7/7 [==============================] - 0s 3ms/step - loss: 0.3077\n",
            "Loss: 0.30768072605133057\n",
            "7/7 [==============================] - 0s 3ms/step\n"
          ]
        }
      ],
      "source": [
        "model.fit(X_train, y_train, epochs=20, batch_size=8)\n",
        "loss = model.evaluate(X_test, y_test)\n",
        "print(f\"Loss: {loss}\")\n",
        "predictions = model.predict(X_test)"
      ]
    },
    {
      "cell_type": "code",
      "execution_count": null,
      "metadata": {},
      "outputs": [
        {
          "data": {
            "image/png": "[encoded data removed]",
            "text/plain": [
              "<Figure size 432x288 with 1 Axes>"
            ]
          },
          "metadata": {},
          "output_type": "display_data"
        }
      ],
      "source": [
        "import matplotlib.pyplot as plt\n",
        "\n",
        "# narysuj dane testowe\n",
        "plt.plot(y_test, label='True values')\n",
        "\n",
        "# narysuj przewidywane wartości\n",
        "plt.plot(predictions, label='Predictions')\n",
        "\n",
        "plt.title('Predictions vs True values')\n",
        "plt.legend()\n",
        "plt.show()"
      ]
    },
    {
      "cell_type": "code",
      "execution_count": null,
      "metadata": {},
      "outputs": [],
      "source": [
        "def rosenbrock(x):\n",
        "    return np.sum(100 * (x[1:] - x[:-1]**2)**2 + (1 - x[:-1])**2)\n",
        "\n",
        "input_data = np.random.uniform(low=-2.0, high=2.0, size=(1000, 2)) # 1000 samples of 2-dimensional data\n",
        "output_data = np.apply_along_axis(rosenbrock, 1, input_data)\n",
        "output_data = output_data/max(output_data)"
      ]
    },
    {
      "cell_type": "code",
      "execution_count": null,
      "metadata": {},
      "outputs": [],
      "source": [
        "train_size = int(len(input_data) * 0.8)\n",
        "X_train, X_test = input_data[:train_size], input_data[train_size:]\n",
        "y_train, y_test = output_data[:train_size], output_data[train_size:]"
      ]
    },
    {
      "cell_type": "code",
      "execution_count": null,
      "metadata": {},
      "outputs": [],
      "source": [
        "model = Sequential()\n",
        "model.add(SimpleRNN(32, input_shape=(X_train.shape[1], 1)))\n",
        "model.add(Dense(1, activation='linear'))\n",
        "model.compile(optimizer='sgd', loss='mae')"
      ]
    },
    {
      "cell_type": "code",
      "execution_count": null,
      "metadata": {},
      "outputs": [
        {
          "name": "stdout",
          "output_type": "stream",
          "text": [
            "Epoch 1/20\n",
            "100/100 [==============================] - 1s 3ms/step - loss: 0.1204\n",
            "Epoch 2/20\n",
            "100/100 [==============================] - 0s 3ms/step - loss: 0.1088\n",
            "Epoch 3/20\n",
            "100/100 [==============================] - 0s 3ms/step - loss: 0.1005\n",
            "Epoch 4/20\n",
            "100/100 [==============================] - 0s 3ms/step - loss: 0.0926\n",
            "Epoch 5/20\n",
            "100/100 [==============================] - 0s 3ms/step - loss: 0.0854\n",
            "Epoch 6/20\n",
            "100/100 [==============================] - 0s 3ms/step - loss: 0.0776\n",
            "Epoch 7/20\n",
            "100/100 [==============================] - 0s 3ms/step - loss: 0.0695\n",
            "Epoch 8/20\n",
            "100/100 [==============================] - 0s 3ms/step - loss: 0.0642\n",
            "Epoch 9/20\n",
            "100/100 [==============================] - 0s 3ms/step - loss: 0.0594\n",
            "Epoch 10/20\n",
            "100/100 [==============================] - 0s 3ms/step - loss: 0.0556\n",
            "Epoch 11/20\n",
            "100/100 [==============================] - 0s 3ms/step - loss: 0.0545\n",
            "Epoch 12/20\n",
            "100/100 [==============================] - 0s 3ms/step - loss: 0.0529\n",
            "Epoch 13/20\n",
            "100/100 [==============================] - 0s 3ms/step - loss: 0.0529\n",
            "Epoch 14/20\n",
            "100/100 [==============================] - 0s 3ms/step - loss: 0.0521\n",
            "Epoch 15/20\n",
            "100/100 [==============================] - 0s 3ms/step - loss: 0.0527\n",
            "Epoch 16/20\n",
            "100/100 [==============================] - 0s 3ms/step - loss: 0.0495\n",
            "Epoch 17/20\n",
            "100/100 [==============================] - 0s 3ms/step - loss: 0.0518\n",
            "Epoch 18/20\n",
            "100/100 [==============================] - 0s 3ms/step - loss: 0.0510\n",
            "Epoch 19/20\n",
            "100/100 [==============================] - 0s 3ms/step - loss: 0.0504\n",
            "Epoch 20/20\n",
            "100/100 [==============================] - 0s 3ms/step - loss: 0.0487\n",
            "7/7 [==============================] - 0s 3ms/step - loss: 0.0544\n",
            "Loss: 0.05437939986586571\n",
            "7/7 [==============================] - 0s 2ms/step\n"
          ]
        }
      ],
      "source": [
        "model.fit(X_train, y_train, epochs=20, batch_size=8)\n",
        "loss = model.evaluate(X_test, y_test)\n",
        "print(f\"Loss: {loss}\")\n",
        "predictions = model.predict(X_test)"
      ]
    },
    {
      "cell_type": "code",
      "execution_count": null,
      "metadata": {},
      "outputs": [
        {
          "data": {
            "image/png": "[encoded data removed]",
            "text/plain": [
              "<Figure size 432x288 with 1 Axes>"
            ]
          },
          "metadata": {},
          "output_type": "display_data"
        }
      ],
      "source": [
        "import matplotlib.pyplot as plt\n",
        "\n",
        "# narysuj dane testowe\n",
        "plt.plot(y_test, label='True values')\n",
        "\n",
        "# narysuj przewidywane wartości\n",
        "plt.plot(predictions, label='Predictions')\n",
        "\n",
        "plt.title('Predictions vs True values')\n",
        "plt.legend()\n",
        "plt.show()"
      ]
    },
    {
      "cell_type": "markdown",
      "metadata": {},
      "source": [
        "# Zadanie 7: Stwórz sieć rekurencyjną z wykorzystaniem SimpleRRN (i/lub LSTM i/lub GRU) do dla zbioru danych [20newsgropus](https://scikit-learn.org/stable/modules/generated/sklearn.datasets.fetch_20newsgroups.html#sklearn.datasets.fetch_20newsgroups)\n"
      ]
    },
    {
      "cell_type": "code",
      "execution_count": null,
      "metadata": {},
      "outputs": [],
      "source": [
        "import numpy as np\n",
        "import tensorflow as tf\n",
        "from sklearn.datasets import fetch_20newsgroups\n",
        "from tensorflow.keras.layers import Input, Embedding, LSTM, Dense\n",
        "from tensorflow.keras.models import Model\n",
        "from tensorflow.keras.preprocessing.sequence import pad_sequences\n",
        "from tensorflow.keras.utils import to_categorical\n",
        "\n",
        "# Load data\n",
        "newsgroups_train = fetch_20newsgroups(subset='train')\n",
        "newsgroups_test = fetch_20newsgroups(subset='test')\n",
        "\n",
        "# Tokenize text\n",
        "tokenizer = tf.keras.preprocessing.text.Tokenizer(num_words=10000)\n",
        "tokenizer.fit_on_texts(newsgroups_train.data)\n",
        "x_train = tokenizer.texts_to_sequences(newsgroups_train.data)\n",
        "x_test = tokenizer.texts_to_sequences(newsgroups_test.data)\n",
        "\n",
        "# Pad sequences to ensure uniform length\n",
        "max_length = max(len(sequence) for sequence in x_train)\n",
        "x_train = pad_sequences(x_train, maxlen=max_length)\n",
        "x_test = pad_sequences(x_test, maxlen=max_length)\n",
        "\n",
        "# One-hot encoding of the labels\n",
        "y_train = to_categorical(newsgroups_train.target)\n",
        "y_test = to_categorical(newsgroups_test.target)"
      ]
    },
    {
      "cell_type": "code",
      "execution_count": null,
      "metadata": {},
      "outputs": [],
      "source": [
        "# Build the model\n",
        "inputs = Input(shape=(max_length,))\n",
        "x = Embedding(input_dim=10000, output_dim=100, input_length=max_length)(inputs)\n",
        "x = LSTM(64)(x)  # Using LSTM layer\n",
        "x = Dense(units=32, activation='relu')(x)\n",
        "outputs = Dense(units=20, activation='softmax')(x) # Adjust the output units to match the number of categories\n",
        "\n",
        "model = Model(inputs=inputs, outputs=outputs)\n",
        "\n",
        "# Compile and train the model\n",
        "model.compile(optimizer='adam', loss='categorical_crossentropy', metrics=['accuracy'])\n",
        "model.fit(x_train, y_train, epochs=5, batch_size=32, validation_data=(x_test, y_test))\n",
        "\n",
        "# Prediction and evaluation\n",
        "predicted_probabilities = model.predict(x_test[:10])\n",
        "predicted_categories = np.argmax(predicted_probabilities, axis=1)\n",
        "\n",
        "# Display predictions\n",
        "for i in range(len(predicted_categories)):\n",
        "    print(\"Input:\", newsgroups_test.data[i])\n",
        "    print(\"True category:\", newsgroups_train.target_names[newsgroups_test.target[i]])\n",
        "    print(\"Predicted category:\", newsgroups_train.target_names[predicted_categories[i]])\n",
        "    print(\"-----------------------------\")"
      ]
    },
    {
      "cell_type": "code",
      "execution_count": null,
      "metadata": {},
      "outputs": [],
      "source": [
        "# Prediction and evaluation\n",
        "predicted_probabilities = model.predict(x_test[:10])\n",
        "predicted_categories = np.argmax(predicted_probabilities, axis=1)\n",
        "\n",
        "# Display predictions\n",
        "for i in range(len(predicted_categories)):\n",
        "    print(\"Input:\", newsgroups_test.data[i])\n",
        "    print(\"True category:\", newsgroups_train.target_names[newsgroups_test.target[i]])\n",
        "    print(\"Predicted category:\", newsgroups_train.target_names[predicted_categories[i]])\n",
        "    print(\"-----------------------------\")"
      ]
    }
  ],
  "metadata": {
    "colab": {
      "provenance": []
    },
    "kernelspec": {
      "display_name": "Python 3",
      "name": "python3"
    },
    "language_info": {
      "name": "python"
    }
  },
  "nbformat": 4,
  "nbformat_minor": 0
}
